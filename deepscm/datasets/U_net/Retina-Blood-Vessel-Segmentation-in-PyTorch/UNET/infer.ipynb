{
 "cells": [
  {
   "cell_type": "code",
   "execution_count": 16,
   "metadata": {
    "collapsed": true
   },
   "outputs": [],
   "source": [
    "import os, time\n",
    "from operator import add\n",
    "import numpy as np\n",
    "from glob import glob\n",
    "import cv2\n",
    "from tqdm import tqdm\n",
    "import imageio\n",
    "import torch\n",
    "from sklearn.metrics import accuracy_score, f1_score, jaccard_score, precision_score, recall_score\n",
    "\n",
    "from model import build_unet\n",
    "from utils import create_dir, seeding"
   ]
  },
  {
   "cell_type": "code",
   "execution_count": 17,
   "outputs": [],
   "source": [
    "def mask_parse(mask):\n",
    "    mask = np.expand_dims(mask, axis=-1)    ## (512, 512, 1)\n",
    "    mask = np.concatenate([mask, mask, mask], axis=-1)  ## (512, 512, 3)\n",
    "    return mask"
   ],
   "metadata": {
    "collapsed": false,
    "pycharm": {
     "name": "#%%\n"
    }
   }
  },
  {
   "cell_type": "code",
   "execution_count": 19,
   "outputs": [],
   "source": [
    "\"\"\" Seeding \"\"\"\n",
    "seeding(42)\n",
    "\n",
    "\"\"\" Folders \"\"\"\n",
    "create_dir(\"results\")\n",
    "\n",
    "\"\"\" Load dataset \"\"\"\n",
    "test_x = sorted(glob(r\"C:\\Users\\shiqi\\PycharmProjects\\DSCM_fundus\\deepscm\\assets\\data\\fundus\\test2_image\\*\"))\n",
    "test_y = sorted(glob(\"../new_data/test/mask/*\"))\n",
    "test_x =test_x [:100]\n",
    "\"\"\" Hyperparameters \"\"\"\n",
    "H = 512\n",
    "W = 512\n",
    "size = (W, H)\n",
    "checkpoint_path = \"files/checkpoint.pth\"\n",
    "\n",
    "\"\"\" Load the checkpoint \"\"\"\n",
    "device = torch.device('cuda' if torch.cuda.is_available() else 'cpu')\n",
    "\n",
    "model = build_unet()\n",
    "model = model.to(device)\n",
    "model.load_state_dict(torch.load(checkpoint_path, map_location=device))\n",
    "model.eval()\n",
    "\n",
    "time_taken = []\n",
    "\n",
    "for i, x in enumerate(test_x):\n",
    "    \"\"\" Extract the name \"\"\"\n",
    "    name = x.split(\"\\\\\")[-1].split(\".\")[0]\n",
    "\n",
    "    \"\"\" Reading image \"\"\"\n",
    "    image = cv2.imread(x, cv2.IMREAD_COLOR) ## (512, 512, 3)\n",
    "    ## image = cv2.resize(image, size)\n",
    "    x = np.transpose(image, (2, 0, 1))      ## (3, 512, 512)\n",
    "    x = x/255.0\n",
    "    x = np.expand_dims(x, axis=0)           ## (1, 3, 512, 512)\n",
    "    x = x.astype(np.float32)\n",
    "    x = torch.from_numpy(x)\n",
    "    x = x.to(device)\n",
    "\n",
    "    # \"\"\" Reading mask \"\"\"\n",
    "    # mask = cv2.imread(y, cv2.IMREAD_GRAYSCALE)  ## (512, 512)\n",
    "    # ## mask = cv2.resize(mask, size)\n",
    "    # y = np.expand_dims(mask, axis=0)            ## (1, 512, 512)\n",
    "    # y = y/255.0\n",
    "    # y = np.expand_dims(y, axis=0)               ## (1, 1, 512, 512)\n",
    "    # y = y.astype(np.float32)\n",
    "    # y = torch.from_numpy(y)\n",
    "    # y = y.to(device)\n",
    "\n",
    "    with torch.no_grad():\n",
    "        \"\"\" Prediction and Calculating FPS \"\"\"\n",
    "        start_time = time.time()\n",
    "        pred_y = model(x)\n",
    "        pred_y = torch.sigmoid(pred_y)\n",
    "        total_time = time.time() - start_time\n",
    "        time_taken.append(total_time)\n",
    "\n",
    "\n",
    "        # score = calculate_metrics(y, pred_y)\n",
    "        # metrics_score = list(map(add, metrics_score, score))\n",
    "        pred_y = pred_y[0].cpu().numpy()        ## (1, 512, 512)\n",
    "        pred_y = np.squeeze(pred_y, axis=0)     ## (512, 512)\n",
    "        pred_y = pred_y > 0.5\n",
    "        pred_y = np.array(pred_y, dtype=np.uint8)\n",
    "\n",
    "    \"\"\" Saving masks \"\"\"\n",
    "    # ori_mask = mask_parse(mask)\n",
    "    pred_y = mask_parse(pred_y)\n",
    "    line = np.ones((size[1], 10, 3)) * 128\n",
    "\n",
    "    cat_images = np.concatenate(\n",
    "        [image, line, line, pred_y * 255], axis=1\n",
    "    )\n",
    "    cv2.imwrite(f\"results/{name}.png\", cat_images)"
   ],
   "metadata": {
    "collapsed": false,
    "pycharm": {
     "name": "#%%\n"
    }
   }
  },
  {
   "cell_type": "code",
   "execution_count": null,
   "outputs": [],
   "source": [],
   "metadata": {
    "collapsed": false,
    "pycharm": {
     "name": "#%%\n"
    }
   }
  }
 ],
 "metadata": {
  "kernelspec": {
   "display_name": "Python 3",
   "language": "python",
   "name": "python3"
  },
  "language_info": {
   "codemirror_mode": {
    "name": "ipython",
    "version": 2
   },
   "file_extension": ".py",
   "mimetype": "text/x-python",
   "name": "python",
   "nbconvert_exporter": "python",
   "pygments_lexer": "ipython2",
   "version": "2.7.6"
  }
 },
 "nbformat": 4,
 "nbformat_minor": 0
}