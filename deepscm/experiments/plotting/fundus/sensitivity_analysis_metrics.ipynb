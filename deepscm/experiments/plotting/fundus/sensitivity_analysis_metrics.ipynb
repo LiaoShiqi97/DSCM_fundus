{
 "cells": [
  {
   "cell_type": "code",
   "execution_count": null,
   "metadata": {
    "collapsed": true
   },
   "outputs": [],
   "source": [
    "import pandas as pd\n",
    "import os\n",
    "import torch\n",
    "import numpy as np\n",
    "from tqdm import trange\n",
    "from deepscm.datasets.fundus import fundusDataset\n",
    "\n",
    "ROOT_PATH = r'C:\\Users\\shiqi\\PycharmProjects\\DSCM_fundus\\deepscm'\n",
    "BASE_LOG_PATH = os.path.join(ROOT_PATH, r'assets\\model\\SVIExperiment')\n",
    "version = 41\n",
    "experiments = ['ConditionalVISEM']"
   ]
  },
  {
   "cell_type": "code",
   "execution_count": null,
   "outputs": [],
   "source": [
    "# load original fundus image\n",
    "data_dir = '/mnt/beta/sliao/DSCM_fundus/deepscm/deepscm/datasets/split_dir3/test_features.xlsx'\n",
    "base_path = '/mnt/alpha/diabetes/MS/data/images_512/'\n",
    "downsample = 4\n",
    "fundus_test = fundusDataset(data_dir,  base_path=base_path, crop_type='center', downsample=downsample)"
   ],
   "metadata": {
    "collapsed": false,
    "pycharm": {
     "name": "#%%\n"
    }
   }
  },
  {
   "cell_type": "code",
   "execution_count": null,
   "outputs": [],
   "source": [
    "columns = [\n",
    "    'exp', 'loss', 'log p(x)', 'log p(age)', 'log p(sex)', 'log p(T2D)',\n",
    "     'log p(z) - log q(z)', 'p(z)', 'q(z)'\n",
    "]\n",
    "metrics_df = pd.DataFrame(columns=columns)\n",
    "\n",
    "for exp in experiments:\n",
    "    try:\n",
    "        print(exp)\n",
    "        metrics = torch.load(f'{BASE_LOG_PATH}/{exp}/version_{version}/metrics.pt')\n",
    "        for k, v in metrics.items():\n",
    "            print(f'{k}: {v:.03f}')\n",
    "        row = {k.replace('test/', ''): np.array(v) for k, v in metrics.items()}\n",
    "        metrics_df.loc[len(metrics_df)] = {'exp': exp, **row}\n",
    "    except:\n",
    "        pass"
   ],
   "metadata": {
    "collapsed": false,
    "pycharm": {
     "name": "#%%\n"
    }
   }
  },
  {
   "cell_type": "code",
   "execution_count": null,
   "outputs": [],
   "source": [
    "recon_mae = {}\n",
    "for exp in experiments:\n",
    "    try:\n",
    "        reconstructions = torch.load(f'{BASE_LOG_PATH}/{exp}/version_{version}/reconstruction.pt')\n",
    "        diff = []\n",
    "        for i in trange(reconstructions['x'].shape[0]):\n",
    "            diff += [reconstructions['x'][i] - (fundus_test[i]['image'] * 255.)]\n",
    "        recon_mae[exp] = np.mean(np.abs(torch.stack(diff).numpy()))\n",
    "    except Exception as e:\n",
    "        print(e)\n",
    "\n",
    "metrics_df.loc[:, 'recon_mae'] = list(recon_mae.values())[0]"
   ],
   "metadata": {
    "collapsed": false,
    "pycharm": {
     "name": "#%%\n"
    }
   }
  },
  {
   "cell_type": "code",
   "execution_count": null,
   "outputs": [],
   "source": [
    "metrics_df"
   ],
   "metadata": {
    "collapsed": false,
    "pycharm": {
     "name": "#%%\n"
    }
   }
  }
 ],
 "metadata": {
  "kernelspec": {
   "display_name": "Python 3",
   "language": "python",
   "name": "python3"
  },
  "language_info": {
   "codemirror_mode": {
    "name": "ipython",
    "version": 2
   },
   "file_extension": ".py",
   "mimetype": "text/x-python",
   "name": "python",
   "nbconvert_exporter": "python",
   "pygments_lexer": "ipython2",
   "version": "2.7.6"
  }
 },
 "nbformat": 4,
 "nbformat_minor": 0
}